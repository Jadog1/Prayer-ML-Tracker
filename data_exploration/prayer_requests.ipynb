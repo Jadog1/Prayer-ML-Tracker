{
 "cells": [
  {
   "cell_type": "code",
   "execution_count": 1,
   "metadata": {},
   "outputs": [
    {
     "data": {
      "text/html": [
       "<div>\n",
       "<style scoped>\n",
       "    .dataframe tbody tr th:only-of-type {\n",
       "        vertical-align: middle;\n",
       "    }\n",
       "\n",
       "    .dataframe tbody tr th {\n",
       "        vertical-align: top;\n",
       "    }\n",
       "\n",
       "    .dataframe thead th {\n",
       "        text-align: right;\n",
       "    }\n",
       "</style>\n",
       "<table border=\"1\" class=\"dataframe\">\n",
       "  <thead>\n",
       "    <tr style=\"text-align: right;\">\n",
       "      <th></th>\n",
       "      <th>category</th>\n",
       "      <th>subject</th>\n",
       "      <th>prayerRequest</th>\n",
       "      <th>archived</th>\n",
       "      <th>stackGroup</th>\n",
       "    </tr>\n",
       "  </thead>\n",
       "  <tbody>\n",
       "    <tr>\n",
       "      <th>373</th>\n",
       "      <td>Monday Bible Study</td>\n",
       "      <td>Jadon</td>\n",
       "      <td>Prayers for Melissa cousin whose wedding got c...</td>\n",
       "      <td>False</td>\n",
       "      <td>ed78b3de-a628-4f17-bfb2-217ed3e3f6df</td>\n",
       "    </tr>\n",
       "    <tr>\n",
       "      <th>374</th>\n",
       "      <td>Monday Bible Study</td>\n",
       "      <td>Jadon</td>\n",
       "      <td>Praise for getting focused over weekend on lea...</td>\n",
       "      <td>False</td>\n",
       "      <td>49c4a9cb-5129-4411-b167-488f44e2a49d</td>\n",
       "    </tr>\n",
       "    <tr>\n",
       "      <th>375</th>\n",
       "      <td>Monday Bible Study</td>\n",
       "      <td>Jadon</td>\n",
       "      <td>Still very busy season at work</td>\n",
       "      <td>True</td>\n",
       "      <td>b5209420-418d-4d0e-a953-1518665759d5</td>\n",
       "    </tr>\n",
       "    <tr>\n",
       "      <th>376</th>\n",
       "      <td>Monday Bible Study</td>\n",
       "      <td>Jadon</td>\n",
       "      <td>Sleep apnea device!</td>\n",
       "      <td>False</td>\n",
       "      <td>5b84f7fd-1fa1-4529-a274-0369affcad37</td>\n",
       "    </tr>\n",
       "    <tr>\n",
       "      <th>377</th>\n",
       "      <td>Monday Bible Study</td>\n",
       "      <td>Jadon</td>\n",
       "      <td>Continued prayers for Natalie as she's working...</td>\n",
       "      <td>True</td>\n",
       "      <td>c9c1283a-a030-4aa1-a6a0-a47ca1ae262d</td>\n",
       "    </tr>\n",
       "  </tbody>\n",
       "</table>\n",
       "</div>"
      ],
      "text/plain": [
       "               category subject   \n",
       "373  Monday Bible Study   Jadon  \\\n",
       "374  Monday Bible Study   Jadon   \n",
       "375  Monday Bible Study   Jadon   \n",
       "376  Monday Bible Study   Jadon   \n",
       "377  Monday Bible Study   Jadon   \n",
       "\n",
       "                                         prayerRequest  archived   \n",
       "373  Prayers for Melissa cousin whose wedding got c...     False  \\\n",
       "374  Praise for getting focused over weekend on lea...     False   \n",
       "375                     Still very busy season at work      True   \n",
       "376                                Sleep apnea device!     False   \n",
       "377  Continued prayers for Natalie as she's working...      True   \n",
       "\n",
       "                               stackGroup  \n",
       "373  ed78b3de-a628-4f17-bfb2-217ed3e3f6df  \n",
       "374  49c4a9cb-5129-4411-b167-488f44e2a49d  \n",
       "375  b5209420-418d-4d0e-a953-1518665759d5  \n",
       "376  5b84f7fd-1fa1-4529-a274-0369affcad37  \n",
       "377  c9c1283a-a030-4aa1-a6a0-a47ca1ae262d  "
      ]
     },
     "execution_count": 1,
     "metadata": {},
     "output_type": "execute_result"
    }
   ],
   "source": [
    "import pandas as pd \n",
    "import json\n",
    "\n",
    "# Load json object, and get the Categories array to use as a dataframe\n",
    "with open('../src/scraped_data/Prayermate.json') as f:\n",
    "    data = json.load(f)\n",
    "    categories = data['Categories']\n",
    "\n",
    "prayerRequests = []\n",
    "for category in categories:\n",
    "    for subject in category['subjects']:\n",
    "        for prayerRequest in subject['cards']:\n",
    "            prayerRequests.append({\n",
    "                'category': category['name'],\n",
    "                'subject': subject['name'],\n",
    "                'prayerRequest': prayerRequest['text'],\n",
    "                'archived': prayerRequest['archived'],\n",
    "                'stackGroup': prayerRequest['stackGroup'],\n",
    "            })\n",
    "\n",
    "df = pd.DataFrame(prayerRequests)\n",
    "df[df['subject'] == 'Jadon'].head()"
   ]
  },
  {
   "cell_type": "code",
   "execution_count": 2,
   "metadata": {},
   "outputs": [
    {
     "name": "stderr",
     "output_type": "stream",
     "text": [
      "c:\\Python311\\Lib\\site-packages\\tqdm\\auto.py:21: TqdmWarning: IProgress not found. Please update jupyter and ipywidgets. See https://ipywidgets.readthedocs.io/en/stable/user_install.html\n",
      "  from .autonotebook import tqdm as notebook_tqdm\n"
     ]
    },
    {
     "data": {
      "text/plain": [
       "<src.semantic_similarity.document_search.TopResults at 0x148b646dfd0>"
      ]
     },
     "execution_count": 2,
     "metadata": {},
     "output_type": "execute_result"
    }
   ],
   "source": [
    "import sys\n",
    "sys.path.append('..')\n",
    "from src.semantic_similarity.document_search import DocumentSearchCosSim, DocumentSearchDotProd, HugfaceEmbedder, PrayerRequestCorpus\n",
    "\n",
    "gteBase = HugfaceEmbedder(\"thenlper/gte-base\")\n",
    "msmarco = HugfaceEmbedder(\"msmarco-distilbert-base-dot-prod-v3\")\n",
    "\n",
    "corpus = PrayerRequestCorpus(df, 100)\n",
    "cachePath = lambda name: f\"../cache/prayers/{name}\"\n",
    "\n",
    "embedder_short = DocumentSearchCosSim(gteBase, cachePath(\"cossim\"), corpus)\n",
    "embedder_long = DocumentSearchDotProd(msmarco, cachePath(\"dotprod\"), corpus)\n",
    "\n",
    "query = \"\"\"\n",
    "Prayers for busy season at work\n",
    "\"\"\"\n",
    "\n",
    "embedder_short.find_similar(query, top_k=5)\n",
    "# embedder_long.find_similar(query, top_k=5)"
   ]
  },
  {
   "cell_type": "code",
   "execution_count": 3,
   "metadata": {},
   "outputs": [
    {
     "name": "stderr",
     "output_type": "stream",
     "text": [
      "Batches:   0%|          | 0/1 [00:00<?, ?it/s]"
     ]
    },
    {
     "name": "stderr",
     "output_type": "stream",
     "text": [
      "Batches: 100%|██████████| 1/1 [00:00<00:00,  1.04it/s]"
     ]
    },
    {
     "name": "stdout",
     "output_type": "stream",
     "text": [
      "\n",
      "\n",
      "======================\n",
      "\n",
      "\n",
      "Top 5 most similar sentences in corpus:\n",
      "Jadon - Still very busy season at work (Score: 0.8900)\n",
      "Jadon - Prayer for work: been feeling close to burnout, and giving up emotions to God. Also balance for empa... (Score: 0.8887)\n"
     ]
    },
    {
     "name": "stderr",
     "output_type": "stream",
     "text": [
      "\n"
     ]
    },
    {
     "data": {
      "text/plain": [
       "<src.semantic_similarity.document_search.TopResults at 0x148bc0268d0>"
      ]
     },
     "execution_count": 3,
     "metadata": {},
     "output_type": "execute_result"
    }
   ],
   "source": [
    "corpus = PrayerRequestCorpus(df[df[\"subject\"] == \"Jadon\"], 100)\n",
    "docStore = DocumentSearchCosSim(gteBase, None, corpus)\n",
    "docStore.find_similar(query, top_k=2).print_results()"
   ]
  }
 ],
 "metadata": {
  "kernelspec": {
   "display_name": "Python 3",
   "language": "python",
   "name": "python3"
  },
  "language_info": {
   "codemirror_mode": {
    "name": "ipython",
    "version": 3
   },
   "file_extension": ".py",
   "mimetype": "text/x-python",
   "name": "python",
   "nbconvert_exporter": "python",
   "pygments_lexer": "ipython3",
   "version": "3.12.8"
  }
 },
 "nbformat": 4,
 "nbformat_minor": 2
}
