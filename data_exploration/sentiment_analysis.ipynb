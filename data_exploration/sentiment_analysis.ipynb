{
 "cells": [
  {
   "cell_type": "markdown",
   "metadata": {},
   "source": [
    "## Positive / Negative / Neutral"
   ]
  },
  {
   "cell_type": "code",
   "execution_count": 104,
   "metadata": {},
   "outputs": [
    {
     "name": "stderr",
     "output_type": "stream",
     "text": [
      "Some weights of the model checkpoint at cardiffnlp/twitter-roberta-base-sentiment-latest were not used when initializing RobertaForSequenceClassification: ['roberta.pooler.dense.bias', 'roberta.pooler.dense.weight']\n",
      "- This IS expected if you are initializing RobertaForSequenceClassification from the checkpoint of a model trained on another task or with another architecture (e.g. initializing a BertForSequenceClassification model from a BertForPreTraining model).\n",
      "- This IS NOT expected if you are initializing RobertaForSequenceClassification from the checkpoint of a model that you expect to be exactly identical (initializing a BertForSequenceClassification model from a BertForSequenceClassification model).\n"
     ]
    },
    {
     "name": "stdout",
     "output_type": "stream",
     "text": [
      "1) positive 0.8953\n",
      "2) neutral 0.0975\n",
      "3) negative 0.0072\n"
     ]
    }
   ],
   "source": [
    "from transformers import AutoModelForSequenceClassification\n",
    "from transformers import TFAutoModelForSequenceClassification\n",
    "from transformers import AutoTokenizer, AutoConfig\n",
    "import numpy as np\n",
    "from scipy.special import softmax\n",
    "MODEL = f\"cardiffnlp/twitter-roberta-base-sentiment-latest\"\n",
    "tokenizer = AutoTokenizer.from_pretrained(MODEL)\n",
    "config = AutoConfig.from_pretrained(MODEL)\n",
    "# PT\n",
    "model = AutoModelForSequenceClassification.from_pretrained(MODEL)\n",
    "#model.save_pretrained(MODEL)\n",
    "text = \"Praise for getting focused over weekend on learning and building side projects\"\n",
    "encoded_input = tokenizer(text, return_tensors='pt')\n",
    "output = model(**encoded_input)\n",
    "scores = output[0][0].detach().numpy()\n",
    "scores = softmax(scores)\n",
    "ranking = np.argsort(scores)\n",
    "ranking = ranking[::-1]\n",
    "for i in range(scores.shape[0]):\n",
    "    l = config.id2label[ranking[i]]\n",
    "    s = scores[ranking[i]]\n",
    "    print(f\"{i+1}) {l} {np.round(float(s), 4)}\")"
   ]
  },
  {
   "cell_type": "markdown",
   "metadata": {},
   "source": [
    "## Emotion Detection"
   ]
  },
  {
   "cell_type": "code",
   "execution_count": 122,
   "metadata": {},
   "outputs": [
    {
     "data": {
      "text/plain": [
       "[[{'label': 'positive', 'score': 0.8953465819358826},\n",
       "  {'label': 'neutral', 'score': 0.09747451543807983},\n",
       "  {'label': 'negative', 'score': 0.007178839761763811}]]"
      ]
     },
     "execution_count": 122,
     "metadata": {},
     "output_type": "execute_result"
    }
   ],
   "source": [
    "from transformers import pipeline, TextClassificationPipeline\n",
    "from pprint import pprint\n",
    "\n",
    "# classifier = pipeline(task=\"text-classification\", model=\"SamLowe/roberta-base-go_emotions\", top_k=None)\n",
    "classifier = TextClassificationPipeline(model=model, tokenizer=tokenizer, top_k=None)\n",
    "sentences = text\n",
    "\n",
    "\n",
    "model_outputs = classifier(sentences)\n",
    "model_outputs"
   ]
  },
  {
   "cell_type": "markdown",
   "metadata": {},
   "source": [
    "## Praise vs Prayer Request"
   ]
  },
  {
   "cell_type": "code",
   "execution_count": 72,
   "metadata": {},
   "outputs": [
    {
     "name": "stderr",
     "output_type": "stream",
     "text": [
      "Map: 100%|██████████| 778/778 [00:00<00:00, 11115.89 examples/s]\n"
     ]
    }
   ],
   "source": [
    "import sys\n",
    "sys.path.append('..')\n",
    "from src.repo.orm import OpenPool, PrayerRequestORM\n",
    "from src.dto.prayerRequests import PrayerRequest, PrayerRequests\n",
    "from dotenv import load_dotenv\n",
    "from transformers import AutoTokenizer, AutoConfig\n",
    "from datasets import Dataset\n",
    "import pandas as pd\n",
    "\n",
    "\n",
    "# MODEL = \"abhi1nandy2/Bible-roberta-base\"\n",
    "MODEL = \"roberta-base\"\n",
    "tokenizer = AutoTokenizer.from_pretrained(MODEL)\n",
    "config = AutoConfig.from_pretrained(MODEL)\n",
    "\n",
    "\n",
    "load_dotenv()\n",
    "import os\n",
    "pg_uri = os.environ.get('PRAYERS_PG_DATABASE_URL')\n",
    "pool = OpenPool(pg_uri)\n",
    "all_requests = []\n",
    "with pool() as session:\n",
    "    prayer_requests = session.query(PrayerRequestORM).all()\n",
    "    all_requests = [{\n",
    "        \"text\": prayer_request.request,\n",
    "        \"label\": prayer_request.prayer_type\n",
    "    } for prayer_request in prayer_requests]\n",
    "label2id = {\n",
    "    \"Prayer Request\": 0,\n",
    "    \"Praise\": 1\n",
    "}\n",
    "id2label = {v: k for k, v in label2id.items()} \n",
    "for request in all_requests:\n",
    "    request[\"label\"] = label2id[request[\"label\"]]\n",
    "all_requests = Dataset.from_list(all_requests)\n",
    "\n",
    "def preprocess_text(request: PrayerRequest):\n",
    "    return tokenizer(request[\"text\"], truncation=True)\n",
    "tokenized_requests = all_requests.map(preprocess_text, batched=True)\n",
    "\n",
    "def stratify_test_train(tokenized_requests, test_size=0.2):\n",
    "    df_all = pd.DataFrame(tokenized_requests)\n",
    "    df_train = df_all.groupby('label', group_keys=False).apply(lambda x: x.sample(frac=1-test_size))\n",
    "    df_test = df_all.drop(df_train.index)\n",
    "    dataset_train = Dataset.from_pandas(df_train, preserve_index=False)\n",
    "    dataset_test = Dataset.from_pandas(df_test, preserve_index=False)\n",
    "    return dataset_train, dataset_test\n",
    "\n",
    "train_requests, test_requests = stratify_test_train(tokenized_requests)"
   ]
  },
  {
   "cell_type": "code",
   "execution_count": 74,
   "metadata": {},
   "outputs": [
    {
     "name": "stderr",
     "output_type": "stream",
     "text": [
      "Some weights of RobertaForSequenceClassification were not initialized from the model checkpoint at roberta-base and are newly initialized: ['classifier.dense.bias', 'classifier.dense.weight', 'classifier.out_proj.bias', 'classifier.out_proj.weight']\n",
      "You should probably TRAIN this model on a down-stream task to be able to use it for predictions and inference.\n"
     ]
    }
   ],
   "source": [
    "from transformers import AutoModelForSequenceClassification, TrainingArguments, Trainer\n",
    "from transformers import DataCollatorWithPadding\n",
    "import evaluate\n",
    "import numpy as np\n",
    "\n",
    "\n",
    "def compute_metrics(eval_pred):\n",
    "    predictions, labels = eval_pred\n",
    "    predictions = np.argmax(predictions, axis=1)\n",
    "    return accuracy.compute(predictions=predictions, references=labels)\n",
    "\n",
    "accuracy = evaluate.load(\"accuracy\")\n",
    "data_collator = DataCollatorWithPadding(tokenizer)\n",
    "\n",
    "\n",
    "model = AutoModelForSequenceClassification.from_pretrained(MODEL, num_labels=2, id2label=id2label, label2id=label2id)\n",
    "training_args = TrainingArguments(\n",
    "    output_dir=\"../cache/sentiment_analysis/prayer_type2\",\n",
    "    learning_rate=2e-5,\n",
    "    per_device_train_batch_size=16,\n",
    "    per_device_eval_batch_size=16,\n",
    "    num_train_epochs=2,\n",
    "    weight_decay=0.01,\n",
    "    evaluation_strategy=\"epoch\",\n",
    "    save_strategy=\"epoch\",\n",
    "    load_best_model_at_end=True,\n",
    ")"
   ]
  },
  {
   "cell_type": "code",
   "execution_count": 75,
   "metadata": {},
   "outputs": [
    {
     "name": "stderr",
     "output_type": "stream",
     "text": [
      "c:\\Python311\\Lib\\site-packages\\accelerate\\accelerator.py:436: FutureWarning: Passing the following arguments to `Accelerator` is deprecated and will be removed in version 1.0 of Accelerate: dict_keys(['dispatch_batches', 'split_batches']). Please pass an `accelerate.DataLoaderConfiguration` instead: \n",
      "dataloader_config = DataLoaderConfiguration(dispatch_batches=None, split_batches=False)\n",
      "  warnings.warn(\n",
      " 50%|█████     | 39/78 [04:58<05:28,  8.43s/it]\n",
      " 50%|█████     | 39/78 [05:21<05:28,  8.43s/it]"
     ]
    },
    {
     "name": "stdout",
     "output_type": "stream",
     "text": [
      "{'eval_loss': 0.48107343912124634, 'eval_accuracy': 0.7371794871794872, 'eval_runtime': 23.3715, 'eval_samples_per_second': 6.675, 'eval_steps_per_second': 0.428, 'epoch': 1.0}\n"
     ]
    },
    {
     "name": "stderr",
     "output_type": "stream",
     "text": [
      "100%|██████████| 78/78 [10:11<00:00,  6.89s/it]\n",
      "100%|██████████| 78/78 [10:34<00:00,  6.89s/it]"
     ]
    },
    {
     "name": "stdout",
     "output_type": "stream",
     "text": [
      "{'eval_loss': 0.41962629556655884, 'eval_accuracy': 0.8333333333333334, 'eval_runtime': 22.9762, 'eval_samples_per_second': 6.79, 'eval_steps_per_second': 0.435, 'epoch': 2.0}\n"
     ]
    },
    {
     "name": "stderr",
     "output_type": "stream",
     "text": [
      "100%|██████████| 78/78 [10:37<00:00,  8.17s/it]"
     ]
    },
    {
     "name": "stdout",
     "output_type": "stream",
     "text": [
      "{'train_runtime': 637.2629, 'train_samples_per_second': 1.952, 'train_steps_per_second': 0.122, 'train_loss': 0.4361897493020082, 'epoch': 2.0}\n"
     ]
    },
    {
     "name": "stderr",
     "output_type": "stream",
     "text": [
      "\n"
     ]
    },
    {
     "data": {
      "text/plain": [
       "TrainOutput(global_step=78, training_loss=0.4361897493020082, metrics={'train_runtime': 637.2629, 'train_samples_per_second': 1.952, 'train_steps_per_second': 0.122, 'train_loss': 0.4361897493020082, 'epoch': 2.0})"
      ]
     },
     "execution_count": 75,
     "metadata": {},
     "output_type": "execute_result"
    }
   ],
   "source": [
    "import pickle\n",
    "trainer = Trainer(\n",
    "    model=model,\n",
    "    args=training_args,\n",
    "    train_dataset=train_requests,\n",
    "    eval_dataset=test_requests,\n",
    "    tokenizer=tokenizer,\n",
    "    compute_metrics=compute_metrics,\n",
    ")\n",
    "\n",
    "trainer.train()\n",
    "with open(\"../cache/prayers/prayer_or_praise.pkl\", 'wb+') as file:\n",
    "    pickle.dump(model, file)"
   ]
  },
  {
   "cell_type": "code",
   "execution_count": 98,
   "metadata": {},
   "outputs": [
    {
     "name": "stderr",
     "output_type": "stream",
     "text": [
      "Map: 100%|██████████| 1/1 [00:00<00:00, 328.63 examples/s]\n",
      "100%|██████████| 1/1 [00:00<?, ?it/s]"
     ]
    },
    {
     "name": "stdout",
     "output_type": "stream",
     "text": [
      "[{'label': 'Prayer Request', 'score': 0.9864389}, {'label': 'Praise', 'score': 0.013561089}]\n"
     ]
    },
    {
     "name": "stderr",
     "output_type": "stream",
     "text": [
      "\n"
     ]
    }
   ],
   "source": [
    "import tensorflow as tf\n",
    "import numpy as np\n",
    "testRequest = Dataset.from_list([{\n",
    "    \"text\": \"Prayers for sleep, waking up with pain\"\n",
    "}])\n",
    "testRequest = testRequest.map(preprocess_text, batched=True)\n",
    "logit = trainer.predict(testRequest).predictions\n",
    "probabilities = tf.nn.softmax(logit)\n",
    "# Convert the prediction to use the labels\n",
    "prediction = []\n",
    "for i in range(probabilities[0].shape[0]):\n",
    "    prediction.append({\n",
    "        \"label\": id2label[i],\n",
    "        \"score\": probabilities[0][i].numpy()\n",
    "    })\n",
    "print(prediction)"
   ]
  },
  {
   "cell_type": "code",
   "execution_count": 124,
   "metadata": {},
   "outputs": [
    {
     "data": {
      "text/plain": [
       "[{'label': 'Praise', 'score': 0.5487721562385559},\n",
       " {'label': 'Prayer Request', 'score': 0.4512278735637665}]"
      ]
     },
     "execution_count": 124,
     "metadata": {},
     "output_type": "execute_result"
    }
   ],
   "source": [
    "from transformers import TextClassificationPipeline\n",
    "import pickle\n",
    "with open(\"../cache/prayers/prayer_or_praise.pkl\", 'rb') as file:\n",
    "    prayerModel= pickle.load(file)\n",
    "classifier = TextClassificationPipeline(model=prayerModel, tokenizer=tokenizer, framework=\"pt\")\n",
    "classifier(\"My sleep has been doing so much better!\", top_k=None)"
   ]
  }
 ],
 "metadata": {
  "kernelspec": {
   "display_name": "Python 3",
   "language": "python",
   "name": "python3"
  },
  "language_info": {
   "codemirror_mode": {
    "name": "ipython",
    "version": 3
   },
   "file_extension": ".py",
   "mimetype": "text/x-python",
   "name": "python",
   "nbconvert_exporter": "python",
   "pygments_lexer": "ipython3",
   "version": "3.11.3"
  }
 },
 "nbformat": 4,
 "nbformat_minor": 2
}
