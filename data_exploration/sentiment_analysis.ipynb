{
 "cells": [
  {
   "cell_type": "code",
   "execution_count": 8,
   "metadata": {},
   "outputs": [
    {
     "name": "stderr",
     "output_type": "stream",
     "text": [
      "Some weights of the model checkpoint at cardiffnlp/twitter-roberta-base-sentiment-latest were not used when initializing RobertaForSequenceClassification: ['roberta.pooler.dense.bias', 'roberta.pooler.dense.weight']\n",
      "- This IS expected if you are initializing RobertaForSequenceClassification from the checkpoint of a model trained on another task or with another architecture (e.g. initializing a BertForSequenceClassification model from a BertForPreTraining model).\n",
      "- This IS NOT expected if you are initializing RobertaForSequenceClassification from the checkpoint of a model that you expect to be exactly identical (initializing a BertForSequenceClassification model from a BertForSequenceClassification model).\n"
     ]
    },
    {
     "name": "stdout",
     "output_type": "stream",
     "text": [
      "1) negative 0.7597\n",
      "2) neutral 0.2109\n",
      "3) positive 0.0294\n"
     ]
    }
   ],
   "source": [
    "from transformers import AutoModelForSequenceClassification\n",
    "from transformers import TFAutoModelForSequenceClassification\n",
    "from transformers import AutoTokenizer, AutoConfig\n",
    "import numpy as np\n",
    "from scipy.special import softmax\n",
    "MODEL = f\"cardiffnlp/twitter-roberta-base-sentiment-latest\"\n",
    "tokenizer = AutoTokenizer.from_pretrained(MODEL)\n",
    "config = AutoConfig.from_pretrained(MODEL)\n",
    "# PT\n",
    "model = AutoModelForSequenceClassification.from_pretrained(MODEL)\n",
    "#model.save_pretrained(MODEL)\n",
    "text = \"Have been having a hard time lately with sleep. Need prayers for peace and rest\"\n",
    "encoded_input = tokenizer(text, return_tensors='pt')\n",
    "output = model(**encoded_input)\n",
    "scores = output[0][0].detach().numpy()\n",
    "scores = softmax(scores)\n",
    "ranking = np.argsort(scores)\n",
    "ranking = ranking[::-1]\n",
    "for i in range(scores.shape[0]):\n",
    "    l = config.id2label[ranking[i]]\n",
    "    s = scores[ranking[i]]\n",
    "    print(f\"{i+1}) {l} {np.round(float(s), 4)}\")"
   ]
  },
  {
   "cell_type": "code",
   "execution_count": 11,
   "metadata": {},
   "outputs": [
    {
     "name": "stdout",
     "output_type": "stream",
     "text": [
      "[{'label': 'desire', 'score': 0.397585391998291},\n",
      " {'label': 'caring', 'score': 0.3546721637248993},\n",
      " {'label': 'sadness', 'score': 0.29200223088264465},\n",
      " {'label': 'neutral', 'score': 0.044636670500040054},\n",
      " {'label': 'optimism', 'score': 0.037261370569467545},\n",
      " {'label': 'disappointment', 'score': 0.037139419466257095},\n",
      " {'label': 'remorse', 'score': 0.0341009646654129},\n",
      " {'label': 'approval', 'score': 0.01934124529361725},\n",
      " {'label': 'nervousness', 'score': 0.01838996633887291},\n",
      " {'label': 'love', 'score': 0.014858935959637165},\n",
      " {'label': 'annoyance', 'score': 0.014482901431620121},\n",
      " {'label': 'curiosity', 'score': 0.012793241068720818},\n",
      " {'label': 'grief', 'score': 0.009511505253612995},\n",
      " {'label': 'joy', 'score': 0.009283608756959438},\n",
      " {'label': 'disapproval', 'score': 0.008858146145939827},\n",
      " {'label': 'realization', 'score': 0.007423378527164459},\n",
      " {'label': 'relief', 'score': 0.007150622084736824},\n",
      " {'label': 'gratitude', 'score': 0.007124544586986303},\n",
      " {'label': 'admiration', 'score': 0.0045354426838457584},\n",
      " {'label': 'excitement', 'score': 0.004300498869270086},\n",
      " {'label': 'confusion', 'score': 0.004097579978406429},\n",
      " {'label': 'fear', 'score': 0.00369087653234601},\n",
      " {'label': 'anger', 'score': 0.0033397481311112642},\n",
      " {'label': 'disgust', 'score': 0.0030960787553340197},\n",
      " {'label': 'amusement', 'score': 0.0019855033606290817},\n",
      " {'label': 'embarrassment', 'score': 0.001615134417079389},\n",
      " {'label': 'pride', 'score': 0.0013277820544317365},\n",
      " {'label': 'surprise', 'score': 0.0013141887029632926}]\n"
     ]
    }
   ],
   "source": [
    "from transformers import pipeline\n",
    "from pprint import pprint\n",
    "\n",
    "classifier = pipeline(task=\"text-classification\", model=\"SamLowe/roberta-base-go_emotions\", top_k=None)\n",
    "\n",
    "sentences = [text]\n",
    "\n",
    "model_outputs = classifier(sentences)\n",
    "pprint(model_outputs[0])\n",
    "# produces a list of dicts for each of the labels\n"
   ]
  }
 ],
 "metadata": {
  "kernelspec": {
   "display_name": "Python 3",
   "language": "python",
   "name": "python3"
  },
  "language_info": {
   "codemirror_mode": {
    "name": "ipython",
    "version": 3
   },
   "file_extension": ".py",
   "mimetype": "text/x-python",
   "name": "python",
   "nbconvert_exporter": "python",
   "pygments_lexer": "ipython3",
   "version": "3.11.3"
  }
 },
 "nbformat": 4,
 "nbformat_minor": 2
}
