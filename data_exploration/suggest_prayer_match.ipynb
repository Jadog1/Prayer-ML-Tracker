{
 "cells": [
  {
   "cell_type": "markdown",
   "metadata": {},
   "source": [
    "## Load data into memory"
   ]
  },
  {
   "cell_type": "code",
   "execution_count": 1,
   "metadata": {},
   "outputs": [
    {
     "name": "stderr",
     "output_type": "stream",
     "text": [
      "c:\\Python311\\Lib\\site-packages\\tqdm\\auto.py:21: TqdmWarning: IProgress not found. Please update jupyter and ipywidgets. See https://ipywidgets.readthedocs.io/en/stable/user_install.html\n",
      "  from .autonotebook import tqdm as notebook_tqdm\n"
     ]
    }
   ],
   "source": [
    "from dotenv import load_dotenv\n",
    "import sys\n",
    "sys.path.append('..')\n",
    "from src.repo.orm import OpenPool, PrayerRequestORM\n",
    "from src.dto.prayerRequests import PrayerRequest\n",
    "load_dotenv()\n",
    "import os\n",
    "import pandas as pd\n",
    "pg_uri = os.environ.get('PRAYERS_PG_DATABASE_URL')\n",
    "pool = OpenPool(pg_uri)"
   ]
  },
  {
   "cell_type": "code",
   "execution_count": 2,
   "metadata": {},
   "outputs": [],
   "source": [
    "from sklearn.metrics.pairwise import cosine_similarity\n",
    "import numpy as np\n",
    "from datetime import datetime, timezone, UTC\n",
    "from sklearn.preprocessing import StandardScaler\n",
    "\n",
    "class FeatureBuilder:\n",
    "    def __init__(self):\n",
    "        pass\n",
    "\n",
    "    def build_preprocess(self, data: list[dict])->pd.DataFrame:\n",
    "        today = datetime.now(UTC)\n",
    "        for obj in data:\n",
    "            obj['dayLength'] = (today - obj['created_at']).days\n",
    "        return pd.DataFrame(data)\n",
    "\n",
    "    def build_postprocess(self, data: np.ndarray):\n",
    "        pass\n",
    "\n",
    "\n",
    "class Preprocessor:\n",
    "    def __init__(self):\n",
    "        self.scaler = StandardScaler()\n",
    "        self.columns = [\"dayLength\"]\n",
    "\n",
    "    def fit_transform(self, data: list[dict]):\n",
    "        self.fit(data)\n",
    "        return self.transform(data)\n",
    "\n",
    "    def fit(self, df: pd.DataFrame):\n",
    "        self.scaler.fit(df[self.columns])\n",
    "\n",
    "    def transform(self, df: pd.DataFrame)->tuple[np.ndarray, np.ndarray]:\n",
    "        self.scaler.transform(df[self.columns])\n",
    "        df[\"embedding\"].to_numpy()\n",
    "        # nparray = df.apply(lambda x: np.append(x[\"embedding\"], x[\"dayLength\"]), axis=1).to_numpy()\n",
    "            \n",
    "        return df[\"embedding\"].to_numpy(), df[\"dayLength\"].to_numpy()\n"
   ]
  },
  {
   "cell_type": "code",
   "execution_count": 3,
   "metadata": {},
   "outputs": [
    {
     "data": {
      "text/html": [
       "<div>\n",
       "<style scoped>\n",
       "    .dataframe tbody tr th:only-of-type {\n",
       "        vertical-align: middle;\n",
       "    }\n",
       "\n",
       "    .dataframe tbody tr th {\n",
       "        vertical-align: top;\n",
       "    }\n",
       "\n",
       "    .dataframe thead th {\n",
       "        text-align: right;\n",
       "    }\n",
       "</style>\n",
       "<table border=\"1\" class=\"dataframe\">\n",
       "  <thead>\n",
       "    <tr style=\"text-align: right;\">\n",
       "      <th></th>\n",
       "      <th>prayer_request</th>\n",
       "      <th>embedding</th>\n",
       "      <th>link_id</th>\n",
       "      <th>created_at</th>\n",
       "      <th>contact_id</th>\n",
       "    </tr>\n",
       "  </thead>\n",
       "  <tbody>\n",
       "    <tr>\n",
       "      <th>0</th>\n",
       "      <td>Mom is thinking she wants to move to Tennessee...</td>\n",
       "      <td>[-0.009760048, -0.005248226, 0.0009992049, -0....</td>\n",
       "      <td>182.0</td>\n",
       "      <td>2024-05-20 23:19:10.768122+00:00</td>\n",
       "      <td>29</td>\n",
       "    </tr>\n",
       "    <tr>\n",
       "      <th>1</th>\n",
       "      <td>Spanish ministry has been twice a month gather...</td>\n",
       "      <td>[-0.014935532, -0.032861583, 0.012076679, 0.00...</td>\n",
       "      <td>175.0</td>\n",
       "      <td>2024-04-15 23:14:53.639172+00:00</td>\n",
       "      <td>28</td>\n",
       "    </tr>\n",
       "  </tbody>\n",
       "</table>\n",
       "</div>"
      ],
      "text/plain": [
       "                                      prayer_request   \n",
       "0  Mom is thinking she wants to move to Tennessee...  \\\n",
       "1  Spanish ministry has been twice a month gather...   \n",
       "\n",
       "                                           embedding  link_id   \n",
       "0  [-0.009760048, -0.005248226, 0.0009992049, -0....    182.0  \\\n",
       "1  [-0.014935532, -0.032861583, 0.012076679, 0.00...    175.0   \n",
       "\n",
       "                        created_at  contact_id  \n",
       "0 2024-05-20 23:19:10.768122+00:00          29  \n",
       "1 2024-04-15 23:14:53.639172+00:00          28  "
      ]
     },
     "execution_count": 3,
     "metadata": {},
     "output_type": "execute_result"
    }
   ],
   "source": [
    "all_requests = []\n",
    "with pool() as session:\n",
    "    prayer_requests = session.query(PrayerRequestORM).all()\n",
    "    for request in prayer_requests:\n",
    "        requestObject = {\n",
    "            \"prayer_request\": request.request,\n",
    "            \"embedding\": request.gte_base_embedding,\n",
    "            \"link_id\": request.link_id,\n",
    "            \"created_at\": request.created_at,\n",
    "            \"contact_id\": request.contact_id\n",
    "        }\n",
    "        all_requests.append(requestObject)\n",
    "\n",
    "df = pd.DataFrame(all_requests)\n",
    "df.head(2)"
   ]
  },
  {
   "cell_type": "code",
   "execution_count": 12,
   "metadata": {},
   "outputs": [],
   "source": [
    "\n",
    "contact_groups = {}\n",
    "feature_builder = FeatureBuilder()\n",
    "preprocessor = Preprocessor()\n",
    "preprocess_features = feature_builder.build_preprocess(all_requests)\n",
    "preprocessed = preprocessor.fit_transform(preprocess_features)\n",
    "\n",
    "for i in range(len(preprocessed[0])):\n",
    "    if all_requests[i]['contact_id'] not in contact_groups:\n",
    "        contact_groups[all_requests[i]['contact_id']] = []\n",
    "    contact_groups[all_requests[i]['contact_id']].append((preprocessed[0][i], preprocessed[1][i]))"
   ]
  },
  {
   "cell_type": "code",
   "execution_count": 16,
   "metadata": {},
   "outputs": [],
   "source": [
    "from itertools import combinations\n",
    "\n",
    "\n",
    "paired_components = []\n",
    "for index in contact_groups:\n",
    "    group = contact_groups[index]\n",
    "    paired_components.append(list(combinations(group, len(group)-1)))"
   ]
  },
  {
   "cell_type": "code",
   "execution_count": null,
   "metadata": {},
   "outputs": [],
   "source": []
  }
 ],
 "metadata": {
  "kernelspec": {
   "display_name": "Python 3",
   "language": "python",
   "name": "python3"
  },
  "language_info": {
   "codemirror_mode": {
    "name": "ipython",
    "version": 3
   },
   "file_extension": ".py",
   "mimetype": "text/x-python",
   "name": "python",
   "nbconvert_exporter": "python",
   "pygments_lexer": "ipython3",
   "version": "3.11.3"
  }
 },
 "nbformat": 4,
 "nbformat_minor": 2
}
