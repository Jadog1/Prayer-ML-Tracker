{
 "cells": [
  {
   "cell_type": "markdown",
   "metadata": {},
   "source": [
    "## Load data into memory"
   ]
  },
  {
   "cell_type": "code",
   "execution_count": 130,
   "metadata": {},
   "outputs": [],
   "source": [
    "from dotenv import load_dotenv\n",
    "import sys\n",
    "sys.path.append('..')\n",
    "from src.repo.orm import OpenPool, PrayerRequestORM\n",
    "from src.dto.prayerRequests import PrayerRequest\n",
    "load_dotenv()\n",
    "import os\n",
    "import pandas as pd\n",
    "pg_uri = os.environ.get('PRAYERS_PG_DATABASE_URL')\n",
    "pool = OpenPool(pg_uri)"
   ]
  },
  {
   "cell_type": "code",
   "execution_count": 131,
   "metadata": {},
   "outputs": [],
   "source": [
    "from sklearn.metrics.pairwise import cosine_similarity\n",
    "from scipy.spatial.distance import cosine\n",
    "import numpy as np\n",
    "from datetime import datetime, UTC\n",
    "from sklearn.preprocessing import StandardScaler\n",
    "\n",
    "class FeatureBuilder:\n",
    "    def __init__(self):\n",
    "        pass\n",
    "\n",
    "    def build_preprocess(self, data: list[dict])->pd.DataFrame:\n",
    "        today = datetime.now(UTC)\n",
    "        for obj in data:\n",
    "            obj['dayLength'] = (today - obj['created_at']).days\n",
    "        return pd.DataFrame(data)\n",
    "\n",
    "    def build_postprocess(self, paired_components: np.ndarray, use_day_feature = True, use_similarity_feature = True)->np.ndarray:\n",
    "        processed = []\n",
    "        for contact_group in paired_components:\n",
    "            for pairs in contact_group:\n",
    "                left_pair = pairs[0]\n",
    "                right_pair = pairs[1]\n",
    "                left_vector: np.ndarray = left_pair[0]\n",
    "                right_vector: np.ndarray = right_pair[0]\n",
    "                left_days = left_pair[1]\n",
    "                right_days = right_pair[1]\n",
    "                y = False\n",
    "                if left_pair[2] == right_pair[2] and not np.isnan(left_pair[2]):\n",
    "                    y = True\n",
    "                similarity = cosine(left_vector, right_vector)\n",
    "                averaged_vector = (left_vector + right_vector) / 2.0\n",
    "\n",
    "                extra_features = [y]\n",
    "                if use_day_feature:\n",
    "                    extra_features.insert(0, right_days)\n",
    "                    extra_features.insert(0, left_days)\n",
    "                if use_similarity_feature:\n",
    "                    extra_features.insert(0, similarity)\n",
    "                new_feature_set = np.concatenate([averaged_vector, extra_features])\n",
    "                processed.append(new_feature_set)\n",
    "\n",
    "        return np.array(processed)\n",
    "                \n",
    "\n",
    "class Preprocessor:\n",
    "    def __init__(self):\n",
    "        self.scaler = StandardScaler()\n",
    "        self.columns = [\"dayLength\"]\n",
    "\n",
    "    def fit_transform(self, data: list[dict]):\n",
    "        self.fit(data)\n",
    "        return self.transform(data)\n",
    "\n",
    "    def fit(self, df: pd.DataFrame):\n",
    "        self.scaler.fit(df[self.columns])\n",
    "\n",
    "    def transform(self, df: pd.DataFrame)->tuple[np.ndarray, np.ndarray, np.ndarray]:\n",
    "        self.scaler.transform(df[self.columns])\n",
    "        df[\"embedding\"].to_numpy()\n",
    "        # nparray = df.apply(lambda x: np.append(x[\"embedding\"], x[\"dayLength\"]), axis=1).to_numpy()\n",
    "            \n",
    "        return df[\"embedding\"].to_numpy(), df[\"dayLength\"].to_numpy(), df[\"link_id\"].to_numpy()\n"
   ]
  },
  {
   "cell_type": "code",
   "execution_count": 132,
   "metadata": {},
   "outputs": [
    {
     "data": {
      "text/html": [
       "<div>\n",
       "<style scoped>\n",
       "    .dataframe tbody tr th:only-of-type {\n",
       "        vertical-align: middle;\n",
       "    }\n",
       "\n",
       "    .dataframe tbody tr th {\n",
       "        vertical-align: top;\n",
       "    }\n",
       "\n",
       "    .dataframe thead th {\n",
       "        text-align: right;\n",
       "    }\n",
       "</style>\n",
       "<table border=\"1\" class=\"dataframe\">\n",
       "  <thead>\n",
       "    <tr style=\"text-align: right;\">\n",
       "      <th></th>\n",
       "      <th>prayer_request</th>\n",
       "      <th>embedding</th>\n",
       "      <th>link_id</th>\n",
       "      <th>created_at</th>\n",
       "      <th>contact_id</th>\n",
       "    </tr>\n",
       "  </thead>\n",
       "  <tbody>\n",
       "    <tr>\n",
       "      <th>0</th>\n",
       "      <td>Mom is thinking she wants to move to Tennessee...</td>\n",
       "      <td>[-0.009760048, -0.005248226, 0.0009992049, -0....</td>\n",
       "      <td>182.0</td>\n",
       "      <td>2024-05-20 23:19:10.768122+00:00</td>\n",
       "      <td>29</td>\n",
       "    </tr>\n",
       "    <tr>\n",
       "      <th>1</th>\n",
       "      <td>Spanish ministry has been twice a month gather...</td>\n",
       "      <td>[-0.014935532, -0.032861583, 0.012076679, 0.00...</td>\n",
       "      <td>175.0</td>\n",
       "      <td>2024-04-15 23:14:53.639172+00:00</td>\n",
       "      <td>28</td>\n",
       "    </tr>\n",
       "  </tbody>\n",
       "</table>\n",
       "</div>"
      ],
      "text/plain": [
       "                                      prayer_request   \n",
       "0  Mom is thinking she wants to move to Tennessee...  \\\n",
       "1  Spanish ministry has been twice a month gather...   \n",
       "\n",
       "                                           embedding  link_id   \n",
       "0  [-0.009760048, -0.005248226, 0.0009992049, -0....    182.0  \\\n",
       "1  [-0.014935532, -0.032861583, 0.012076679, 0.00...    175.0   \n",
       "\n",
       "                        created_at  contact_id  \n",
       "0 2024-05-20 23:19:10.768122+00:00          29  \n",
       "1 2024-04-15 23:14:53.639172+00:00          28  "
      ]
     },
     "execution_count": 132,
     "metadata": {},
     "output_type": "execute_result"
    }
   ],
   "source": [
    "all_requests = []\n",
    "with pool() as session:\n",
    "    prayer_requests = session.query(PrayerRequestORM).all()\n",
    "    for request in prayer_requests:\n",
    "        requestObject = {\n",
    "            \"prayer_request\": request.request,\n",
    "            \"embedding\": request.gte_base_embedding,\n",
    "            \"link_id\": request.link_id,\n",
    "            \"created_at\": request.created_at,\n",
    "            \"contact_id\": request.contact_id\n",
    "        }\n",
    "        all_requests.append(requestObject)\n",
    "\n",
    "df = pd.DataFrame(all_requests)\n",
    "df.head(2)"
   ]
  },
  {
   "cell_type": "code",
   "execution_count": 133,
   "metadata": {},
   "outputs": [],
   "source": [
    "\n",
    "contact_groups = {}\n",
    "feature_builder = FeatureBuilder()\n",
    "preprocessor = Preprocessor()\n",
    "preprocess_features = feature_builder.build_preprocess(all_requests)\n",
    "preprocessed = preprocessor.fit_transform(preprocess_features)\n",
    "\n",
    "for i in range(len(preprocessed[0])):\n",
    "    if all_requests[i]['contact_id'] not in contact_groups:\n",
    "        contact_groups[all_requests[i]['contact_id']] = []\n",
    "    contact_groups[all_requests[i]['contact_id']].append((preprocessed[0][i], preprocessed[1][i], preprocessed[2][i]))"
   ]
  },
  {
   "cell_type": "code",
   "execution_count": 134,
   "metadata": {},
   "outputs": [],
   "source": [
    "from itertools import combinations\n",
    "\n",
    "\n",
    "paired_components = []\n",
    "for index in contact_groups:\n",
    "    group = contact_groups[index]\n",
    "    paired_components.append(list(combinations(group, 2)))"
   ]
  },
  {
   "cell_type": "code",
   "execution_count": 147,
   "metadata": {},
   "outputs": [
    {
     "data": {
      "text/plain": [
       "25665"
      ]
     },
     "execution_count": 147,
     "metadata": {},
     "output_type": "execute_result"
    }
   ],
   "source": [
    "final_feature_set = feature_builder.build_postprocess(paired_components, use_day_feature=True, use_similarity_feature=True)\n",
    "len(final_feature_set)"
   ]
  },
  {
   "cell_type": "code",
   "execution_count": 148,
   "metadata": {},
   "outputs": [],
   "source": [
    "from sklearn.model_selection import train_test_split\n",
    "\n",
    "y = final_feature_set[:,-1]\n",
    "X = final_feature_set[:, :-1]\n",
    "\n",
    "X_train, X_test, y_train, y_test = train_test_split(X, y, test_size=0.2, stratify=y)"
   ]
  },
  {
   "cell_type": "code",
   "execution_count": 149,
   "metadata": {},
   "outputs": [
    {
     "name": "stdout",
     "output_type": "stream",
     "text": [
      "0.9908435612702123\n"
     ]
    },
    {
     "data": {
      "text/plain": [
       "0.9881161114358075"
      ]
     },
     "execution_count": 149,
     "metadata": {},
     "output_type": "execute_result"
    }
   ],
   "source": [
    "from lightgbm import LGBMClassifier\n",
    "\n",
    "model = LGBMClassifier(random_state=42, learning_rate=0.01)\n",
    "model.fit(X_train, y_train)\n",
    "print(model.score(X_train, y_train))\n",
    "model.score(X_test, y_test)"
   ]
  },
  {
   "cell_type": "code",
   "execution_count": 150,
   "metadata": {},
   "outputs": [
    {
     "data": {
      "text/plain": [
       "array([  1,   1,   2,   2,   3,   6,   5,   0,   6,  15,   0,   3,   2,\n",
       "         4,   1,   0,   1,   1,   4,   0,   4,   2,   0,   0,   0,   4,\n",
       "         1,   0,   2,   4,   0,   4,   0,   3,  48,   3,  19,   0,  32,\n",
       "         0,   2,   2,   4,   0,   1,   0,   3,   1,   0,   1,   2,   0,\n",
       "         1,   0,   6,   0,   2,   3,   1,   2,   9,   1,  24,   0,   9,\n",
       "         7,   0,   9,  12,   1,   0,   3,   5,   2,   1,   1,   8,   1,\n",
       "         0,   0,  36,   1,   3,   0,   3,   2,   4,   3,   1,   4,  13,\n",
       "         1,   0,   0,   7,  19,   2,   6,   3,   3,   2,   1,   0,   7,\n",
       "         0,   1,   5,   5,   0,   0,   3,   0,   0,   5,   0,   4,   1,\n",
       "         0,   3,   0,   1,   3,   3,   8,   4,   6,   5,   1,   2,   0,\n",
       "         1,   3,   2,  16,   6,   3,   0,   1,   1,   1,   1,   3,   1,\n",
       "         0,   4,   2,   3,   2,   1,   0,   8,   0,   0,   0,   3,   2,\n",
       "         0,   2,   3,   1,   0,   1,   5,   1,   6,   0,   0,   0,   1,\n",
       "         1,   0,  15,  10,   9,   2,   6,  15,   2,   2,   2,  18,   0,\n",
       "         1,   1,   4,  10,   2,   2,   5,   0,  24,   2,   3,   2,   8,\n",
       "         0,   2,   1,   9,  11,   3,   3,   0,   1,   5,   1,  28,   3,\n",
       "         0,   2,   2,   2,   1,   0,   2,   0,   2,   6,   0,   6,   1,\n",
       "         4,   2,   3,   1,   0,   2,  11,   3,   0,   1,   2,  19,   0,\n",
       "         8,   6,   8,  13,  11,   7,   3,   4,   1,   2,   0,   0,   8,\n",
       "         3,   1,   0,   2,   1,   2,   2,   5,   5,   6,   0,   5,   0,\n",
       "         1,  18,   3,   1,   4,   2,  11,   9,   6,   6,   1,   8,   1,\n",
       "         1,   0,   6,   3,   1,   4,   3,   2,   1,   1,  16,   0,   1,\n",
       "         1,   1,   0,   9,   0,   0,   0,   0,   6,   6,   1,   2,   2,\n",
       "         5,   0,   0,   0,   0,  16,   0,   6,   0,   2,   0,   1,   0,\n",
       "         0,   1,   6,   6,   1,   4,   4,   1,   0,   8,   1,   3,   2,\n",
       "         3,   1,   0,   6,   0,   0,   1,   0,   0,   0,   0,   0,   2,\n",
       "        14,   2,   1,   3,  10,   0,   3,   0,   4,   1,   0,   3,   5,\n",
       "         1,   0,   5,   4,   0,   0,   6,   7,   3,   0,   1,   7,   3,\n",
       "         0,   6,   3,   1,  33,   1,   0,   5,   0,   0,   4,   9,   0,\n",
       "         2,   4,   2,   1,   1,  30,   0,   0,   0,   3,  11,   5,   4,\n",
       "         0,   1,   0,   0,   0,   1,   3,   1,   9,   3,   2,   1,   1,\n",
       "         4,   0,   6,   2,   1,   0,   2,   1,   1,   3,   6,   5,   5,\n",
       "         0,   1,   3,   0,   5,   2,   0,   3,   4,   4,   1,   2,   0,\n",
       "         3,  11,   1,  11,   1,   0,   0,   0,   4,   0,   2,   0,   0,\n",
       "         2,   2,   0,   9,   7,  10,  21,   2,   2,  29,   2,   0,   1,\n",
       "         2,   0,   0,   3,   6,   0,  21,   0,   0,   0,   0,   0,  22,\n",
       "         8,   3,   7,   0,   3,   2,   2,   1,   0,  10,   6,   0,   7,\n",
       "         3,   2,   1,   2,   1,  13,   0,   0,   3,   4,   1,   0,   1,\n",
       "        10,   3,   5,   2,  24,   1,   1,  10,   4,   0,   1,   9,   1,\n",
       "         3,  11,   0,  10,   1,   0,   5,   1,   5,   0,   4,   1,   2,\n",
       "         3,   3,   0,   2,   0,  11,   6,   0,   4,   1,   1,   1,   1,\n",
       "         1,   0,   1,   1,   9,   6,   0,   3,   4,   1,   1,   4,   0,\n",
       "         0,   5,   1,   8,   2,   1,   4,   0,   4,   1,   2,   0,   2,\n",
       "         6,   1,   0,   4,   4,   1,   3,   3,   2,   2,   0,  19,   2,\n",
       "         3,   4,   7,   2,   4,  11,   0,   3,   2,   0,   2,  24,   0,\n",
       "         1,   7,   1,  28,   8,   2,   4,   4,   0,   0,   0,   0,   0,\n",
       "         1,   2,   5,   0,   0,   4,   2,   0,   1,   0,   5,   2,   1,\n",
       "         5,   1,   1,  25,   0,   3,   1,   1,   1,   0,   1,   1,   0,\n",
       "         1,   0,   1,   0,   0,   1,   3,   2,   0,   5,   0,   0,   1,\n",
       "         1,   4,  19,   1,   2,   0,   2,   1,   0,   0,  18,   2,   0,\n",
       "         4,   0,   0,   5,   3,   1,   0,   0,   3,   2,   8,   2,   6,\n",
       "         1,   2,   0,   5,  12,   2,   0,   8,  11,   1,   2,   0,  11,\n",
       "         1,   3,  25,   1,   1,   9,   0,   2,  13,   2,   1,   6,   2,\n",
       "         3,   1,   1,  13,   0,   0,   2,   3,   1,  10,   1,   1,   0,\n",
       "         1,   5,   2,   3,   1,   0,   6,   2,   3,   1,   5,   1,   0,\n",
       "         2,  14,   0,   2,   1,   0,   1,   3,   0,   6,   0,   3,  12,\n",
       "         6,   2,   0,  24,   0,   4,   4,   2,   5,   1,   6,   4,   2,\n",
       "         1,  10,   1,   0,   3,   8,   4,   1,   2,   2,   0,   7,   0,\n",
       "         2,   3,   6,   1,   4,   9,   5,   0,   8,   0,  10,   5,   1,\n",
       "         4, 201,  49, 106])"
      ]
     },
     "execution_count": 150,
     "metadata": {},
     "output_type": "execute_result"
    }
   ],
   "source": [
    "# Scores seem suspicious, and so do the weights. Seems like a classic case of overfitting\n",
    "# Would like to experiment in production\n",
    "model.feature_importances_"
   ]
  },
  {
   "cell_type": "code",
   "execution_count": null,
   "metadata": {},
   "outputs": [],
   "source": []
  }
 ],
 "metadata": {
  "kernelspec": {
   "display_name": "Python 3",
   "language": "python",
   "name": "python3"
  },
  "language_info": {
   "codemirror_mode": {
    "name": "ipython",
    "version": 3
   },
   "file_extension": ".py",
   "mimetype": "text/x-python",
   "name": "python",
   "nbconvert_exporter": "python",
   "pygments_lexer": "ipython3",
   "version": "3.11.3"
  }
 },
 "nbformat": 4,
 "nbformat_minor": 2
}
