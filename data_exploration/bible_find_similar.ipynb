{
 "cells": [
  {
   "cell_type": "code",
   "execution_count": 3,
   "metadata": {},
   "outputs": [
    {
     "name": "stdout",
     "output_type": "stream",
     "text": [
      "\n",
      "\n",
      "======================\n",
      "\n",
      "\n",
      "Top 5 most similar sentences in corpus:\n",
      "1 Thessalonians 2:5 - You know we never used flattery, nor did we put on a mask to cover up greed--God is our witness. (Score: 0.8532)\n",
      "Revelation 3:17 - You say, 'I am rich; I have acquired wealth and do not need a thing.' But you do not realize that you are wretched, pitiful, poor, blind and naked. (Score: 0.8392)\n",
      "Proverbs 13:11 - Dishonest money dwindles away, but he who gathers money little by little makes it grow. (Score: 0.8337)\n",
      "1 Timothy 6:10 - For the love of money is a root of all kinds of evil. Some people, eager for money, have wandered from the faith and pierced themselves with many griefs. (Score: 0.8336)\n",
      "Proverbs 23:4 - Do not wear yourself out to get rich; have the wisdom to show restraint. (Score: 0.8308)\n"
     ]
    },
    {
     "data": {
      "text/plain": [
       "<src.semantic_similarity.document_search.TopResults at 0x1871f846190>"
      ]
     },
     "execution_count": 3,
     "metadata": {},
     "output_type": "execute_result"
    }
   ],
   "source": [
    "import sys\n",
    "sys.path.append('..')\n",
    "from src.semantic_similarity.document_search import DocumentSearchCosSim, DocumentSearchDotProd, HugfaceEmbedder, BibleCorpus\n",
    "import pandas as pd\n",
    "\n",
    "df_niv = pd.read_csv('../src/scraped_data/niv.csv')\n",
    "df_grouped_chapter = df_niv.groupby(['Chapter', 'Book'])['Text'].apply('\\n'.join).reset_index()\n",
    "df_niv_sections = pd.read_csv('../src/scraped_data/niv_sections.csv')\n",
    "\n",
    "gteBase = HugfaceEmbedder(\"thenlper/gte-base\")\n",
    "msmarco = HugfaceEmbedder(\"msmarco-distilbert-base-dot-prod-v3\")\n",
    "cachePath = lambda x: \"../cache/bibles/niv/\"+x\n",
    "\n",
    "docVerses = DocumentSearchCosSim(gteBase, cachePath(\"verses_base\"), BibleCorpus(df_niv, \"Text\"))\n",
    "docSections = DocumentSearchDotProd(msmarco, cachePath(\"sections_base\"), BibleCorpus(df_niv_sections, \"VerseText\", 100))\n",
    "docChapters = DocumentSearchDotProd(msmarco, cachePath(\"chapters\"), BibleCorpus(df_grouped_chapter, \"Text\", 100))\n",
    "\n",
    "query = \"\"\"\n",
    "Money doesn’t change you, it unmasks you\n",
    "\"\"\"\n",
    "\n",
    "docVerses.find_similar(query, top_k=5).print_results()\n",
    "# docSections.find_similar(query, top_k=5)\n",
    "# docChapters.find_similar(query, top_k=1)"
   ]
  }
 ],
 "metadata": {
  "kernelspec": {
   "display_name": "Python 3",
   "language": "python",
   "name": "python3"
  },
  "language_info": {
   "codemirror_mode": {
    "name": "ipython",
    "version": 3
   },
   "file_extension": ".py",
   "mimetype": "text/x-python",
   "name": "python",
   "nbconvert_exporter": "python",
   "pygments_lexer": "ipython3",
   "version": "3.11.3"
  }
 },
 "nbformat": 4,
 "nbformat_minor": 2
}
