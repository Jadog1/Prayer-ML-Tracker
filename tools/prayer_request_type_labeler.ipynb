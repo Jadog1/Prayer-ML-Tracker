{
 "cells": [
  {
   "cell_type": "code",
   "execution_count": 1,
   "metadata": {},
   "outputs": [
    {
     "name": "stdout",
     "output_type": "stream",
     "text": [
      "No more prayer requests\n"
     ]
    },
    {
     "ename": "",
     "evalue": "",
     "output_type": "error",
     "traceback": [
      "\u001b[1;31mThe Kernel crashed while executing code in the current cell or a previous cell. \n",
      "\u001b[1;31mPlease review the code in the cell(s) to identify a possible cause of the failure. \n",
      "\u001b[1;31mClick <a href='https://aka.ms/vscodeJupyterKernelCrash'>here</a> for more info. \n",
      "\u001b[1;31mView Jupyter <a href='command:jupyter.viewOutput'>log</a> for further details."
     ]
    }
   ],
   "source": [
    "import os\n",
    "import tkinter as tk\n",
    "from dotenv import load_dotenv\n",
    "from sqlalchemy.orm import scoped_session, Session\n",
    "import sys\n",
    "sys.path.append('..')\n",
    "from src.repo.orm import OpenPool, PrayerRequestORM\n",
    "load_dotenv()\n",
    "pg_uri = os.environ.get('PRAYERS_PG_DATABASE_URL')\n",
    "\n",
    "class PrayerLabelerApp:\n",
    "    def __init__(self, master: tk.Tk):\n",
    "        self.master = master\n",
    "        self.master.title(\"Prayer Labeler\")\n",
    "        self.master.geometry(\"600x400\")\n",
    "\n",
    "        self.prayer_text = tk.StringVar()\n",
    "        self.prayer_text.set(\"No prayer request available\")\n",
    "\n",
    "        self.label_text = tk.Label(master, textvariable=self.prayer_text, wraplength=400)\n",
    "        self.label_text.pack()\n",
    "\n",
    "        self.button_frame = tk.Frame(master)\n",
    "        self.button_frame.pack(side=tk.BOTTOM, anchor=tk.SE, padx=10, pady=10)\n",
    "\n",
    "        self.prayer_button = tk.Button(self.button_frame, text=\"Prayer Request\", command=self.label_prayer, padx=10,\n",
    "                                       background='orange', foreground='white')\n",
    "        self.prayer_button.pack(side=tk.RIGHT, padx=15, pady=5)\n",
    "\n",
    "        self.praise_button = tk.Button(self.button_frame, text=\"Praise\", command=self.label_praise, padx=10,\n",
    "                                       background='green', foreground='white')\n",
    "        self.praise_button.pack(side=tk.RIGHT, padx=15, pady=5)\n",
    "\n",
    "        self.id_at = 0\n",
    "\n",
    "        # Connect to the database\n",
    "        self.pool: scoped_session[Session] = OpenPool(pg_uri)\n",
    "\n",
    "        # Load initial prayer request\n",
    "        self.load_prayer_request()\n",
    "\n",
    "    def load_prayer_request(self):\n",
    "        # Query the database for an unlabeled prayer request\n",
    "        with self.pool() as session:\n",
    "            prayer_request = session.query(PrayerRequestORM).filter(PrayerRequestORM.prayer_type == None).first()\n",
    "            if prayer_request == None:\n",
    "                print(\"No more prayer requests\")\n",
    "                self.master.quit()\n",
    "                return\n",
    "            self.id_at = prayer_request.id\n",
    "            if prayer_request:\n",
    "                self.prayer_text.set(prayer_request.request)\n",
    "            else:\n",
    "                self.prayer_text.set(\"No more prayer requests\")\n",
    "\n",
    "    def label_prayer(self):\n",
    "        self.update_label(\"Prayer Request\")\n",
    "\n",
    "    def label_praise(self):\n",
    "        self.update_label(\"Praise\")\n",
    "\n",
    "    def update_label(self, label):\n",
    "        # Update the label in the database\n",
    "        with self.pool() as session:\n",
    "            prayer_request = session.query(PrayerRequestORM).filter(PrayerRequestORM.id == self.id_at).first()\n",
    "            if prayer_request:\n",
    "                prayer_request.prayer_type = label\n",
    "                session.commit()\n",
    "            # Load the next prayer request\n",
    "        self.load_prayer_request()\n",
    "\n",
    "root = tk.Tk()\n",
    "app = PrayerLabelerApp(root)\n",
    "root.mainloop()"
   ]
  }
 ],
 "metadata": {
  "kernelspec": {
   "display_name": "Python 3",
   "language": "python",
   "name": "python3"
  },
  "language_info": {
   "codemirror_mode": {
    "name": "ipython",
    "version": 3
   },
   "file_extension": ".py",
   "mimetype": "text/x-python",
   "name": "python",
   "nbconvert_exporter": "python",
   "pygments_lexer": "ipython3",
   "version": "3.11.3"
  }
 },
 "nbformat": 4,
 "nbformat_minor": 2
}
