{
 "cells": [
  {
   "cell_type": "code",
   "execution_count": 1,
   "metadata": {},
   "outputs": [],
   "source": [
    "from abc import ABC, abstractmethod\n",
    "import os\n",
    "from dotenv import load_dotenv\n",
    "from sqlalchemy.orm import scoped_session, Session\n",
    "import sys\n",
    "sys.path.append('..')\n",
    "from src.repo.orm import OpenPool, PrayerRequestORM\n",
    "import tqdm\n",
    "load_dotenv()\n",
    "pg_uri = os.environ.get('PRAYERS_PG_DATABASE_URL')\n",
    "\n",
    "pool: scoped_session[Session] = OpenPool(pg_uri)\n",
    "\n",
    "class Backill(ABC):\n",
    "    @abstractmethod\n",
    "    def filter(self, session: Session)->list[PrayerRequestORM]:\n",
    "        pass\n",
    "\n",
    "    @abstractmethod\n",
    "    def update_fields(self, ormRequest: PrayerRequestORM):\n",
    "        pass\n",
    "\n",
    "# Backfill the prayer request table\n",
    "# Use tqdm to show progress\n",
    "def PrayerRequestBackfill(backfill: Backill):\n",
    "    with pool() as session:\n",
    "        results = backfill.filter(session)\n",
    "        for ormRequest in tqdm.tqdm(results):\n",
    "            backfill.update_fields(ormRequest)\n",
    "        session.commit()\n",
    "        session.close()"
   ]
  },
  {
   "cell_type": "code",
   "execution_count": 3,
   "metadata": {},
   "outputs": [
    {
     "name": "stderr",
     "output_type": "stream",
     "text": [
      "Some weights of the model checkpoint at cardiffnlp/twitter-roberta-base-sentiment-latest were not used when initializing RobertaForSequenceClassification: ['roberta.pooler.dense.bias', 'roberta.pooler.dense.weight']\n",
      "- This IS expected if you are initializing RobertaForSequenceClassification from the checkpoint of a model trained on another task or with another architecture (e.g. initializing a BertForSequenceClassification model from a BertForPreTraining model).\n",
      "- This IS NOT expected if you are initializing RobertaForSequenceClassification from the checkpoint of a model that you expect to be exactly identical (initializing a BertForSequenceClassification model from a BertForSequenceClassification model).\n",
      "100%|██████████| 778/778 [03:53<00:00,  3.33it/s]\n"
     ]
    }
   ],
   "source": [
    "from src.models.models import ClassifierModels\n",
    "\n",
    "classifiers = ClassifierModels()\n",
    "\n",
    "class BackfillSentiment(Backill):\n",
    "    def filter(self, session: Session)->list[PrayerRequestORM]:\n",
    "        return session.query(PrayerRequestORM).filter(\n",
    "            PrayerRequestORM.sentiment_analysis == None ).all()\n",
    "\n",
    "    def update_fields(self, ormRequest: PrayerRequestORM):\n",
    "        result = classifiers.classify(ormRequest.request)\n",
    "        ormRequest.sentiment_analysis = result['sentiment']\n",
    "        ormRequest.emotion_roberta = result['emotion']\n",
    "\n",
    "backfiller = BackfillSentiment()\n",
    "# PrayerRequestBackfill(backfiller)"
   ]
  }
 ],
 "metadata": {
  "kernelspec": {
   "display_name": "Python 3",
   "language": "python",
   "name": "python3"
  },
  "language_info": {
   "codemirror_mode": {
    "name": "ipython",
    "version": 3
   },
   "file_extension": ".py",
   "mimetype": "text/x-python",
   "name": "python",
   "nbconvert_exporter": "python",
   "pygments_lexer": "ipython3",
   "version": "3.11.3"
  }
 },
 "nbformat": 4,
 "nbformat_minor": 2
}
